{
 "cells": [
  {
   "cell_type": "code",
   "execution_count": 1,
   "metadata": {
    "collapsed": true
   },
   "outputs": [],
   "source": [
    "%matplotlib inline\n",
    "import matplotlib.pyplot as plt\n",
    "import numpy as np\n",
    "import time\n",
    "plt.rcParams['font.size'] = 14\n",
    "#import pylab_util as PU\n",
    "import os\n",
    "fft = np.fft.fft\n",
    "import bode_utils\n",
    "import txt_mixin"
   ]
  },
  {
   "cell_type": "code",
   "execution_count": 2,
   "metadata": {
    "collapsed": false
   },
   "outputs": [],
   "source": [
    "def data_to_float_array(data):\n",
    "    mylist = data.split('\\n')\n",
    "    clean_list = mylist#[3:]\n",
    "    clean_2 = list(filter(None,clean_list))\n",
    "    \n",
    "    start_ind = None\n",
    "    \n",
    "    for i, row in enumerate(clean_2):\n",
    "        if row.find(\"1,\") == 0:\n",
    "            start_ind = i\n",
    "    \n",
    "    end_ind = None\n",
    "    \n",
    "    for i, row in enumerate(clean_2):\n",
    "        if row.find(\"input\") > -1:\n",
    "            end_ind = i\n",
    "            \n",
    "    clean_3 = clean_2[start_ind:end_ind]\n",
    "    nested_list = [row.split(',') for row in clean_3]\n",
    "    str_array = np.array(nested_list)\n",
    "    float_array = str_array.astype(float)\n",
    "    return float_array\n",
    "    #return str_array"
   ]
  },
  {
   "cell_type": "code",
   "execution_count": 3,
   "metadata": {
    "collapsed": true
   },
   "outputs": [],
   "source": [
    "import control\n",
    "#import digcomp"
   ]
  },
  {
   "cell_type": "code",
   "execution_count": 4,
   "metadata": {
    "collapsed": true
   },
   "outputs": [],
   "source": [
    "import serial\n",
    "import serial_utils"
   ]
  },
  {
   "cell_type": "code",
   "execution_count": 5,
   "metadata": {
    "collapsed": true
   },
   "outputs": [],
   "source": [
    "import importlib"
   ]
  },
  {
   "cell_type": "code",
   "execution_count": 6,
   "metadata": {
    "collapsed": false
   },
   "outputs": [
    {
     "data": {
      "text/plain": [
       "<module 'serial_utils' from '/Users/kraussry/git/research/serial_utils.py'>"
      ]
     },
     "execution_count": 6,
     "metadata": {},
     "output_type": "execute_result"
    }
   ],
   "source": [
    "importlib.reload(serial_utils)"
   ]
  },
  {
   "cell_type": "code",
   "execution_count": 7,
   "metadata": {
    "collapsed": true
   },
   "outputs": [],
   "source": [
    "import platform"
   ]
  },
  {
   "cell_type": "code",
   "execution_count": 8,
   "metadata": {
    "collapsed": false
   },
   "outputs": [
    {
     "data": {
      "text/plain": [
       "'darwin-14.5.0-x86_64-i386-64bit'"
      ]
     },
     "execution_count": 8,
     "metadata": {},
     "output_type": "execute_result"
    }
   ],
   "source": [
    "plat_str = platform.platform().lower()\n",
    "plat_str"
   ]
  },
  {
   "cell_type": "code",
   "execution_count": 9,
   "metadata": {
    "collapsed": false
   },
   "outputs": [
    {
     "name": "stdout",
     "output_type": "stream",
     "text": [
      "myos: mac\n"
     ]
    }
   ],
   "source": [
    "myos = 'win'\n",
    "\n",
    "if 'linux' in plat_str:\n",
    "    myos = 'linux'\n",
    "elif 'darwin' in plat_str:\n",
    "    myos = 'mac'\n",
    "\n",
    "print('myos: %s' % myos)"
   ]
  },
  {
   "cell_type": "code",
   "execution_count": 10,
   "metadata": {
    "collapsed": false
   },
   "outputs": [
    {
     "name": "stdout",
     "output_type": "stream",
     "text": [
      "portname: /dev/cu.usbmodem1411\n"
     ]
    }
   ],
   "source": [
    "if myos == 'linux':\n",
    "    portname = serial_utils.find_portname_RPi()\n",
    "elif myos == 'mac':\n",
    "    #portname = '/dev/tty.usbmodem1421'\n",
    "    portname = '/dev/cu.usbmodem1411'\n",
    "else:\n",
    "    portname = 'COM3'\n",
    "    \n",
    "print('portname: %s' % portname)"
   ]
  },
  {
   "cell_type": "code",
   "execution_count": 11,
   "metadata": {
    "collapsed": false
   },
   "outputs": [],
   "source": [
    "ser = serial_utils.serial_test(portname)"
   ]
  },
  {
   "cell_type": "code",
   "execution_count": 12,
   "metadata": {
    "collapsed": false
   },
   "outputs": [],
   "source": [
    "ser.open()"
   ]
  },
  {
   "cell_type": "code",
   "execution_count": 13,
   "metadata": {
    "collapsed": false
   },
   "outputs": [
    {
     "name": "stdout",
     "output_type": "stream",
     "text": [
      "krauss balancing v. 1.1.0\n",
      "input test case\r\n",
      "\n",
      "\n"
     ]
    }
   ],
   "source": [
    "ser.print_all()"
   ]
  },
  {
   "cell_type": "code",
   "execution_count": 14,
   "metadata": {
    "collapsed": false
   },
   "outputs": [],
   "source": [
    "ser.flush()"
   ]
  },
  {
   "cell_type": "code",
   "execution_count": 15,
   "metadata": {
    "collapsed": false
   },
   "outputs": [
    {
     "name": "stdout",
     "output_type": "stream",
     "text": [
      "\n"
     ]
    }
   ],
   "source": [
    "ser.print_all()"
   ]
  },
  {
   "cell_type": "code",
   "execution_count": 16,
   "metadata": {
    "collapsed": true
   },
   "outputs": [],
   "source": [
    "ser.write_char(\"s\")\n",
    "ser.write_int(2000)"
   ]
  },
  {
   "cell_type": "code",
   "execution_count": 17,
   "metadata": {
    "collapsed": false
   },
   "outputs": [
    {
     "name": "stdout",
     "output_type": "stream",
     "text": [
      "stop_n = 2000\r\n",
      "input test case\r\n",
      "\n",
      "\n"
     ]
    }
   ],
   "source": [
    "ser.print_all()"
   ]
  },
  {
   "cell_type": "code",
   "execution_count": 20,
   "metadata": {
    "collapsed": true
   },
   "outputs": [],
   "source": [
    "ser.write_char(\"/\")\n",
    "ser.write_float(0.005)"
   ]
  },
  {
   "cell_type": "code",
   "execution_count": 21,
   "metadata": {
    "collapsed": false
   },
   "outputs": [
    {
     "name": "stdout",
     "output_type": "stream",
     "text": [
      "accel_frac = 0.005000\r\n",
      "input test case\r\n",
      "\n",
      "\n"
     ]
    }
   ],
   "source": [
    "ser.print_all()"
   ]
  },
  {
   "cell_type": "code",
   "execution_count": 22,
   "metadata": {
    "collapsed": true
   },
   "outputs": [],
   "source": [
    "ser.write_char(\"z\")"
   ]
  },
  {
   "cell_type": "code",
   "execution_count": 24,
   "metadata": {
    "collapsed": false
   },
   "outputs": [
    {
     "name": "stdout",
     "output_type": "stream",
     "text": [
      "zeroing done\r\n",
      "ay_offset = -99\r\n",
      "input test case\r\n",
      "\n",
      "\n"
     ]
    }
   ],
   "source": [
    "ser.print_all()"
   ]
  },
  {
   "cell_type": "code",
   "execution_count": 25,
   "metadata": {
    "collapsed": false
   },
   "outputs": [],
   "source": [
    "ser.write_char(\"1\")\n",
    "#time.sleep(1)\n",
    "data = ser.get_data()"
   ]
  },
  {
   "cell_type": "code",
   "execution_count": 26,
   "metadata": {
    "collapsed": true
   },
   "outputs": [],
   "source": [
    "data2 = ser.get_data()"
   ]
  },
  {
   "cell_type": "code",
   "execution_count": 27,
   "metadata": {
    "collapsed": true
   },
   "outputs": [],
   "source": [
    "data += data2"
   ]
  },
  {
   "cell_type": "code",
   "execution_count": 28,
   "metadata": {
    "collapsed": false
   },
   "outputs": [],
   "source": [
    "data_array = data_to_float_array(data)"
   ]
  },
  {
   "cell_type": "code",
   "execution_count": 29,
   "metadata": {
    "collapsed": false
   },
   "outputs": [
    {
     "data": {
      "text/plain": [
       "(2001, 10)"
      ]
     },
     "execution_count": 29,
     "metadata": {},
     "output_type": "execute_result"
    }
   ],
   "source": [
    "data_array.shape"
   ]
  },
  {
   "cell_type": "markdown",
   "metadata": {},
   "source": [
    "      Serial.print(n_loop);Serial.print(\",\");   \n",
    "      Serial.print(t_ms);Serial.print(\",\");    \n",
    "      Serial.print(AcY);Serial.print(\",\");\n",
    "      Serial.print(AcY_offset);Serial.print(\",\");\n",
    "      Serial.print(AcZ);Serial.print(\",\");\n",
    "      Serial.print(roll);Serial.print(\",\");\n",
    "      Serial.print(gyroXrate);Serial.print(\",\");\n",
    "      Serial.print(compAngleX);//Serial.print(\",\");\n",
    "      //---------------------------------\n",
    "      Serial.print('\\n');\n"
   ]
  },
  {
   "cell_type": "code",
   "execution_count": 30,
   "metadata": {
    "collapsed": false
   },
   "outputs": [],
   "source": [
    "default_col_list = ['n','t_ms','AcY','AcY_offset','AcZ','roll', \\\n",
    "                    'gyroXrate','compX','e','edot']\n",
    "\n",
    "class filter_investigation(object):\n",
    "    def __init__(self, data_array, col_list=None):\n",
    "        self.data = data_array\n",
    "        \n",
    "        if col_list is None:\n",
    "            col_list = default_col_list\n",
    "        self.col_list = col_list\n",
    "        \n",
    "        self.extract_cols()\n",
    "        self.t = self.t_ms/1000\n",
    "        \n",
    "        \n",
    "    def extract_cols(self):\n",
    "        N = len(default_col_list)\n",
    "        \n",
    "        for i in range(N):\n",
    "            cur_attr = self.col_list[i]\n",
    "            cur_col = self.data[:,i]\n",
    "            setattr(self,cur_attr,cur_col)\n",
    "            \n",
    "    def gyro_int(self):\n",
    "        \"\"\"Pure numeric integration of the gyro rate without \n",
    "        the complimentary filter.\"\"\"\n",
    "        #compAngleX = 0.99 * (compAngleX + gyroXrate * dt_sec)\n",
    "        N = len(self.gyroXrate)\n",
    "        theta_X_pure_int = np.zeros(N)\n",
    "        \n",
    "        for i in range(1,N):\n",
    "            prev_th = theta_X_pure_int[i-1]\n",
    "            dt_i = self.t[i] - self.t[i-1]\n",
    "            next_th = prev_th + self.gyroXrate[i]*dt_i\n",
    "            theta_X_pure_int[i] = next_th\n",
    "            \n",
    "        self.theta_X_pure_int = theta_X_pure_int\n",
    "            \n",
    "            \n",
    "    def _plot(self, attr_list):\n",
    "        if type(attr_list) == str:\n",
    "            attr_list = [attr_list]\n",
    "        plt.figure()\n",
    "        \n",
    "        t = self.t\n",
    "        \n",
    "        for attr in attr_list:\n",
    "            cur_vect = getattr(self, attr)\n",
    "            plt.plot(t,cur_vect, label=attr)\n",
    "            plt.xlabel('Time (sec.)')\n",
    "            plt.ylabel('Signal Amplitude')\n",
    "            \n",
    "            \n",
    "    def save(self, filename):\n",
    "        txt_mixin.dump_delimited(filename, self.data, \\\n",
    "                                 labels=self.col_list)\n",
    "                                 #delim='\\t', fmt='%s', \n",
    "        "
   ]
  },
  {
   "cell_type": "code",
   "execution_count": 31,
   "metadata": {
    "collapsed": false
   },
   "outputs": [],
   "source": [
    "myfilt = filter_investigation(data_array)\n",
    "myfilt.gyro_int()"
   ]
  },
  {
   "cell_type": "code",
   "execution_count": 32,
   "metadata": {
    "collapsed": false
   },
   "outputs": [
    {
     "data": {
      "image/png": "[encoded data removed]",
      "text/plain": [
       "<matplotlib.figure.Figure at 0x11bb9f550>"
      ]
     },
     "metadata": {},
     "output_type": "display_data"
    }
   ],
   "source": [
    "myfilt._plot(['compX','roll','e'])\n",
    "#plt.xlim([0,6])"
   ]
  },
  {
   "cell_type": "code",
   "execution_count": 33,
   "metadata": {
    "collapsed": false
   },
   "outputs": [
    {
     "data": {
      "text/plain": [
       "<matplotlib.legend.Legend at 0x11465f940>"
      ]
     },
     "execution_count": 33,
     "metadata": {},
     "output_type": "execute_result"
    },
    {
     "data": {
      "image/png": "[encoded data removed]",
      "text/plain": [
       "<matplotlib.figure.Figure at 0x115f89e80>"
      ]
     },
     "metadata": {},
     "output_type": "display_data"
    }
   ],
   "source": [
    "myfilt._plot(['gyroXrate','edot'])\n",
    "plt.xlim([3,5])\n",
    "plt.ylim([-200,200])\n",
    "plt.legend(['gyroXrate','edot'])"
   ]
  },
  {
   "cell_type": "code",
   "execution_count": 34,
   "metadata": {
    "collapsed": false
   },
   "outputs": [
    {
     "data": {
      "image/png": "[encoded data removed]",
      "text/plain": [
       "<matplotlib.figure.Figure at 0x11bbaae10>"
      ]
     },
     "metadata": {},
     "output_type": "display_data"
    }
   ],
   "source": [
    "myfilt._plot(['theta_X_pure_int'])"
   ]
  },
  {
   "cell_type": "code",
   "execution_count": 35,
   "metadata": {
    "collapsed": true
   },
   "outputs": [],
   "source": [
    "myfilt.save('krauss_filt_1.csv')"
   ]
  },
  {
   "cell_type": "code",
   "execution_count": 36,
   "metadata": {
    "collapsed": false
   },
   "outputs": [
    {
     "data": {
      "text/plain": [
       "'/Users/kraussry/Google Drive/Teaching/SBR_independent_study/EGR499_W18_SBR_ind_study_class_folder/krauss_code'"
      ]
     },
     "execution_count": 36,
     "metadata": {},
     "output_type": "execute_result"
    }
   ],
   "source": [
    "pwd"
   ]
  },
  {
   "cell_type": "code",
   "execution_count": null,
   "metadata": {
    "collapsed": true
   },
   "outputs": [],
   "source": []
  }
 ],
 "metadata": {
  "kernelspec": {
   "display_name": "Python 3",
   "language": "python",
   "name": "python3"
  },
  "language_info": {
   "codemirror_mode": {
    "name": "ipython",
    "version": 3
   },
   "file_extension": ".py",
   "mimetype": "text/x-python",
   "name": "python",
   "nbconvert_exporter": "python",
   "pygments_lexer": "ipython3",
   "version": "3.5.2"
  }
 },
 "nbformat": 4,
 "nbformat_minor": 0
}
